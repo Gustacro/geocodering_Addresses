{
 "cells": [
  {
   "cell_type": "markdown",
   "id": "715b7fa2-4637-4ad5-9d30-aed3ee38439c",
   "metadata": {},
   "source": [
    "## Geocoding & Create Output files"
   ]
  },
  {
   "cell_type": "markdown",
   "id": "408ecb7b-1960-4e0e-a159-092a2077ac78",
   "metadata": {},
   "source": [
    "For this geocoding exercise we are going to use `OpenCage` which is a geocoding service.\n",
    "* For this install opencage in your environment with : `pip install opencage jupyter`.\n",
    "* Create an account in [OpenCage Website](http://opencagedata.com), and save the `API key` localy or anywhere that you can retrieve easly.\n",
    "* "
   ]
  },
  {
   "cell_type": "code",
   "execution_count": 1,
   "id": "c4ccbea1-c4d8-4197-aaaa-16386ccd60b9",
   "metadata": {},
   "outputs": [],
   "source": [
    "from opencage.geocoder import OpenCageGeocode\n",
    "from pprint import pprint"
   ]
  },
  {
   "cell_type": "markdown",
   "id": "fd52b6dd-433c-43e4-af59-221890c06b54",
   "metadata": {},
   "source": [
    "The safetiest and easy way to protect an API KEY is by saving it in a environment variable.\n",
    "* create an env variable (filename.env) : \n",
    "    * open terminal : `touch <filename>.env`\n",
    "    * then open created file in text editor\n",
    "    * save `API KEY` like `OPENCAGE=yourapikey`\n",
    "\n",
    "To read the .env file you need to install python-detenv like : `pip isntall python-dotenv`"
   ]
  },
  {
   "cell_type": "code",
   "execution_count": 2,
   "id": "cbb0fc5b-e0e7-4568-b8e7-7d80394632f0",
   "metadata": {},
   "outputs": [],
   "source": [
    "import os\n",
    "from dotenv import load_dotenv, find_dotenv"
   ]
  },
  {
   "cell_type": "code",
   "execution_count": 18,
   "id": "1392ded4-71e5-40d0-8961-d520a73fa93d",
   "metadata": {},
   "outputs": [],
   "source": [
    "load_dotenv('simply.env') # load the function\n",
    "key = os.getenv('OPENCAGE') # retrieve the API KEY\n",
    "geocoder = OpenCageGeocode(key) # use the key in the geocoder"
   ]
  },
  {
   "cell_type": "markdown",
   "id": "4bd23bfb-3eac-4538-a55e-7cf696bc3340",
   "metadata": {},
   "source": [
    "Geocoder Directionality:\n",
    "* __Forward__ : `forward_geocode` refers to converting an address (pseudo-spatial data) to a coordinate pair, often alongside other supplementary info. \n",
    "* __Reverse__ : `reverse_geocode` Backwards geocoding refers to converting coordinate pair (spatial data) to an address. "
   ]
  },
  {
   "cell_type": "markdown",
   "id": "6688714d-009f-4fd0-bc9e-aa0772c6eb96",
   "metadata": {},
   "source": [
    "## Reverse Geocoding"
   ]
  },
  {
   "cell_type": "code",
   "execution_count": 24,
   "id": "da90dfe9-4ab4-408f-b3a8-43f13da31e59",
   "metadata": {
    "collapsed": true,
    "jupyter": {
     "outputs_hidden": true
    },
    "tags": []
   },
   "outputs": [
    {
     "name": "stdout",
     "output_type": "stream",
     "text": [
      "[{'annotations': {'DMS': {'lat': \"45° 30' 57.37032'' N\",\n",
      "                          'lng': \"122° 40' 54.46776'' W\"},\n",
      "                  'FIPS': {'county': '41051', 'state': '41'},\n",
      "                  'MGRS': '10TER2485340316',\n",
      "                  'Maidenhead': 'CN85pm83et',\n",
      "                  'Mercator': {'x': -13656875.124, 'y': 5672616.967},\n",
      "                  'OSM': {'edit_url': 'https://www.openstreetmap.org/edit?way=399825297#map=17/45.51594/-122.68180',\n",
      "                          'note_url': 'https://www.openstreetmap.org/note/new#map=17/45.51594/-122.68180&layers=N',\n",
      "                          'url': 'https://www.openstreetmap.org/?mlat=45.51594&mlon=-122.68180#map=17/45.51594/-122.68180'},\n",
      "                  'UN_M49': {'regions': {'AMERICAS': '019',\n",
      "                                         'NORTHERN_AMERICA': '021',\n",
      "                                         'US': '840',\n",
      "                                         'WORLD': '001'},\n",
      "                             'statistical_groupings': ['MEDC']},\n",
      "                  'callingcode': 1,\n",
      "                  'currency': {'alternate_symbols': ['US$'],\n",
      "                               'decimal_mark': '.',\n",
      "                               'disambiguate_symbol': 'US$',\n",
      "                               'html_entity': '$',\n",
      "                               'iso_code': 'USD',\n",
      "                               'iso_numeric': '840',\n",
      "                               'name': 'United States Dollar',\n",
      "                               'smallest_denomination': 1,\n",
      "                               'subunit': 'Cent',\n",
      "                               'subunit_to_unit': 100,\n",
      "                               'symbol': '$',\n",
      "                               'symbol_first': 1,\n",
      "                               'thousands_separator': ','},\n",
      "                  'flag': '🇺🇸',\n",
      "                  'geohash': 'c20fbmcvdcqpn82ztpbz',\n",
      "                  'qibla': 17.46,\n",
      "                  'roadinfo': {'drive_on': 'right',\n",
      "                               'road': 'Southwest Madison Street',\n",
      "                               'speed_in': 'mph'},\n",
      "                  'sun': {'rise': {'apparent': 1649597640,\n",
      "                                   'astronomical': 1649591280,\n",
      "                                   'civil': 1649595840,\n",
      "                                   'nautical': 1649593620},\n",
      "                          'set': {'apparent': 1649559000,\n",
      "                                  'astronomical': 1649565420,\n",
      "                                  'civil': 1649560860,\n",
      "                                  'nautical': 1649563080}},\n",
      "                  'timezone': {'name': 'America/Los_Angeles',\n",
      "                               'now_in_dst': 1,\n",
      "                               'offset_sec': -25200,\n",
      "                               'offset_string': '-0700',\n",
      "                               'short_name': 'PDT'},\n",
      "                  'what3words': {'words': 'wacky.memory.evenly'},\n",
      "                  'wikidata': 'Q7571606'},\n",
      "  'bounds': {'northeast': {'lat': 45.5160831, 'lng': -122.6816256},\n",
      "             'southwest': {'lat': 45.5158128, 'lng': -122.6820575}},\n",
      "  'components': {'ISO_3166-1_alpha-2': 'US',\n",
      "                 'ISO_3166-1_alpha-3': 'USA',\n",
      "                 '_category': 'building',\n",
      "                 '_type': 'building',\n",
      "                 'building': 'The Sovereign',\n",
      "                 'city': 'Portland',\n",
      "                 'continent': 'North America',\n",
      "                 'country': 'United States',\n",
      "                 'country_code': 'us',\n",
      "                 'county': 'Multnomah County',\n",
      "                 'house_number': '710',\n",
      "                 'neighbourhood': 'University District',\n",
      "                 'postcode': '97205',\n",
      "                 'road': 'Southwest Madison Street',\n",
      "                 'state': 'Oregon',\n",
      "                 'state_code': 'OR',\n",
      "                 'suburb': 'Downtown'},\n",
      "  'confidence': 10,\n",
      "  'formatted': 'The Sovereign, 710 Southwest Madison Street, Portland, OR '\n",
      "               '97205, United States of America',\n",
      "  'geometry': {'lat': 45.5159362, 'lng': -122.6817966}}]\n"
     ]
    }
   ],
   "source": [
    "lat, long = 45.51597294921563, -122.68166028329473\n",
    "results= geocoder.reverse_geocode(lat, long)\n",
    "\n",
    "# returns a json file with all info\n",
    "pprint(results)"
   ]
  },
  {
   "cell_type": "markdown",
   "id": "23b842ae-1ca1-44d0-aea7-138c69320a46",
   "metadata": {},
   "source": [
    "### Parsing the `Reverse` Geocoding result\n",
    "Easy to parse the JSON file. Let's retrieve the \"formatted\" placename. that include the address. we want the first result (the 0th index position) and we want the value of the `formatted` key"
   ]
  },
  {
   "cell_type": "code",
   "execution_count": 25,
   "id": "c1d6a148-3dd0-4d29-9c96-837f0b7a4223",
   "metadata": {},
   "outputs": [
    {
     "name": "stdout",
     "output_type": "stream",
     "text": [
      "('The Sovereign, 710 Southwest Madison Street, Portland, OR 97205, United '\n",
      " 'States of America')\n"
     ]
    }
   ],
   "source": [
    "formatted = results[0]['formatted']\n",
    "pprint(formatted)"
   ]
  },
  {
   "cell_type": "markdown",
   "id": "616e402a-5ca1-4ac2-bf3a-39a4c427b2ed",
   "metadata": {},
   "source": [
    "Similar if we just want the street name, town and state, we could concatenate those values"
   ]
  },
  {
   "cell_type": "code",
   "execution_count": 35,
   "id": "fb202899-0fea-4b7e-a1da-6c527fc93e96",
   "metadata": {},
   "outputs": [
    {
     "name": "stdout",
     "output_type": "stream",
     "text": [
      "Southwest Madison Street, Portland, OR\n",
      "Southwest Madison Street, Portland, OR\n",
      "Southwest Madison Street, Portland, OR\n"
     ]
    }
   ],
   "source": [
    "# concatenate multiple values\n",
    "street = results[0]['components']['road']+ ', '+ results[0]['components']['city']+ ', '+results[0]['components']['state_code']\n",
    "\n",
    "print(street)\n",
    "\n",
    "# Or, using join...\n",
    "street = ', '.join([results[0]['components']['road'], results[0]['components']['city'], results[0]['components']['state_code']])\n",
    "print(street)\n",
    "\n",
    "\n",
    "# Join in a cleaner way...\n",
    "comp = results[0]['components']\n",
    "street = ', '.join([comp['road'], comp['city'], comp['state_code']])\n",
    "print(street)"
   ]
  },
  {
   "cell_type": "markdown",
   "id": "455e774b-982b-400b-8236-7a041271a029",
   "metadata": {},
   "source": [
    "## Forward Geocoding"
   ]
  },
  {
   "cell_type": "code",
   "execution_count": 38,
   "id": "0bd534fb-598c-42f7-87bf-1e8f80aefaeb",
   "metadata": {
    "collapsed": true,
    "jupyter": {
     "outputs_hidden": true
    },
    "tags": []
   },
   "outputs": [
    {
     "name": "stdout",
     "output_type": "stream",
     "text": [
      "[{'annotations': {'DMS': {'lat': \"45° 30' 57.23028'' N\",\n",
      "                          'lng': \"122° 40' 53.81220'' W\"},\n",
      "                  'FIPS': {'county': '41051', 'state': '41'},\n",
      "                  'MGRS': '10TER2486740311',\n",
      "                  'Maidenhead': 'CN85pm83et',\n",
      "                  'Mercator': {'x': -13656854.857, 'y': 5672610.816},\n",
      "                  'OSM': {'edit_url': 'https://www.openstreetmap.org/edit?way=219867064#map=17/45.51590/-122.68161',\n",
      "                          'note_url': 'https://www.openstreetmap.org/note/new#map=17/45.51590/-122.68161&layers=N',\n",
      "                          'url': 'https://www.openstreetmap.org/?mlat=45.51590&mlon=-122.68161#map=17/45.51590/-122.68161'},\n",
      "                  'UN_M49': {'regions': {'AMERICAS': '019',\n",
      "                                         'NORTHERN_AMERICA': '021',\n",
      "                                         'US': '840',\n",
      "                                         'WORLD': '001'},\n",
      "                             'statistical_groupings': ['MEDC']},\n",
      "                  'callingcode': 1,\n",
      "                  'currency': {'alternate_symbols': ['US$'],\n",
      "                               'decimal_mark': '.',\n",
      "                               'disambiguate_symbol': 'US$',\n",
      "                               'html_entity': '$',\n",
      "                               'iso_code': 'USD',\n",
      "                               'iso_numeric': '840',\n",
      "                               'name': 'United States Dollar',\n",
      "                               'smallest_denomination': 1,\n",
      "                               'subunit': 'Cent',\n",
      "                               'subunit_to_unit': 100,\n",
      "                               'symbol': '$',\n",
      "                               'symbol_first': 1,\n",
      "                               'thousands_separator': ','},\n",
      "                  'flag': '🇺🇸',\n",
      "                  'geohash': 'c20fbmcvr4jzqc8tfhme',\n",
      "                  'qibla': 17.46,\n",
      "                  'roadinfo': {'drive_on': 'right',\n",
      "                               'road': 'Southwest Broadway',\n",
      "                               'speed_in': 'mph'},\n",
      "                  'sun': {'rise': {'apparent': 1649597640,\n",
      "                                   'astronomical': 1649591280,\n",
      "                                   'civil': 1649595840,\n",
      "                                   'nautical': 1649593620},\n",
      "                          'set': {'apparent': 1649559000,\n",
      "                                  'astronomical': 1649565420,\n",
      "                                  'civil': 1649560860,\n",
      "                                  'nautical': 1649563080}},\n",
      "                  'timezone': {'name': 'America/Los_Angeles',\n",
      "                               'now_in_dst': 1,\n",
      "                               'offset_sec': -25200,\n",
      "                               'offset_string': '-0700',\n",
      "                               'short_name': 'PDT'},\n",
      "                  'what3words': {'words': 'broad.asleep.raft'}},\n",
      "  'bounds': {'northeast': {'lat': 45.5159473, 'lng': -122.6815645},\n",
      "             'southwest': {'lat': 45.5158473, 'lng': -122.6816645}},\n",
      "  'components': {'ISO_3166-1_alpha-2': 'US',\n",
      "                 'ISO_3166-1_alpha-3': 'USA',\n",
      "                 '_category': 'building',\n",
      "                 '_type': 'building',\n",
      "                 'city': 'Portland',\n",
      "                 'continent': 'North America',\n",
      "                 'country': 'United States',\n",
      "                 'country_code': 'us',\n",
      "                 'county': 'Multnomah County',\n",
      "                 'house_number': '1207',\n",
      "                 'neighbourhood': 'University District',\n",
      "                 'postcode': '97205',\n",
      "                 'road': 'Southwest Broadway',\n",
      "                 'state': 'Oregon',\n",
      "                 'state_code': 'OR',\n",
      "                 'suburb': 'Downtown'},\n",
      "  'confidence': 10,\n",
      "  'formatted': '1207 Southwest Broadway, Portland, OR 97205, United States of '\n",
      "               'America',\n",
      "  'geometry': {'lat': 45.5158973, 'lng': -122.6816145}},\n",
      " {'annotations': {'DMS': {'lat': \"45° 30' 57.60000'' N\",\n",
      "                          'lng': \"122° 40' 53.45400'' W\"},\n",
      "                  'FIPS': {'state': '41'},\n",
      "                  'MGRS': '10TER2487540323',\n",
      "                  'Maidenhead': 'CN85pm83fu',\n",
      "                  'Mercator': {'x': -13656843.78, 'y': 5672627.077},\n",
      "                  'OSM': {'note_url': 'https://www.openstreetmap.org/note/new#map=17/45.51600/-122.68152&layers=N',\n",
      "                          'url': 'https://www.openstreetmap.org/?mlat=45.51600&mlon=-122.68152#map=17/45.51600/-122.68152'},\n",
      "                  'UN_M49': {'regions': {'AMERICAS': '019',\n",
      "                                         'NORTHERN_AMERICA': '021',\n",
      "                                         'US': '840',\n",
      "                                         'WORLD': '001'},\n",
      "                             'statistical_groupings': ['MEDC']},\n",
      "                  'callingcode': 1,\n",
      "                  'currency': {'alternate_symbols': ['US$'],\n",
      "                               'decimal_mark': '.',\n",
      "                               'disambiguate_symbol': 'US$',\n",
      "                               'html_entity': '$',\n",
      "                               'iso_code': 'USD',\n",
      "                               'iso_numeric': '840',\n",
      "                               'name': 'United States Dollar',\n",
      "                               'smallest_denomination': 1,\n",
      "                               'subunit': 'Cent',\n",
      "                               'subunit_to_unit': 100,\n",
      "                               'symbol': '$',\n",
      "                               'symbol_first': 1,\n",
      "                               'thousands_separator': ','},\n",
      "                  'flag': '🇺🇸',\n",
      "                  'geohash': 'c20fbmfjct25vhtscyeu',\n",
      "                  'qibla': 17.46,\n",
      "                  'roadinfo': {'drive_on': 'right',\n",
      "                               'road': 'SW Broadway',\n",
      "                               'speed_in': 'mph'},\n",
      "                  'sun': {'rise': {'apparent': 1649597640,\n",
      "                                   'astronomical': 1649591280,\n",
      "                                   'civil': 1649595840,\n",
      "                                   'nautical': 1649593620},\n",
      "                          'set': {'apparent': 1649559000,\n",
      "                                  'astronomical': 1649565420,\n",
      "                                  'civil': 1649560860,\n",
      "                                  'nautical': 1649563080}},\n",
      "                  'timezone': {'name': 'America/Los_Angeles',\n",
      "                               'now_in_dst': 1,\n",
      "                               'offset_sec': -25200,\n",
      "                               'offset_string': '-0700',\n",
      "                               'short_name': 'PDT'},\n",
      "                  'what3words': {'words': 'having.driven.picked'}},\n",
      "  'components': {'ISO_3166-1_alpha-2': 'US',\n",
      "                 'ISO_3166-1_alpha-3': 'USA',\n",
      "                 '_category': 'road',\n",
      "                 '_type': 'road',\n",
      "                 'continent': 'North America',\n",
      "                 'country': 'United States of America',\n",
      "                 'country_code': 'us',\n",
      "                 'road': 'SW Broadway',\n",
      "                 'state': 'Oregon',\n",
      "                 'state_code': 'OR',\n",
      "                 'town': 'Portland'},\n",
      "  'confidence': 9,\n",
      "  'formatted': 'SW Broadway, Portland, OR, United States of America',\n",
      "  'geometry': {'lat': 45.516, 'lng': -122.681515}},\n",
      " {'annotations': {'DMS': {'lat': \"45° 31' 14.52000'' N\",\n",
      "                          'lng': \"122° 41' 19.68000'' W\"},\n",
      "                  'FIPS': {'county': '41051', 'state': '41'},\n",
      "                  'MGRS': '10TER2430440843',\n",
      "                  'Maidenhead': 'CN85pm74ix',\n",
      "                  'Mercator': {'x': -13657654.742, 'y': 5673371.319},\n",
      "                  'OSM': {'note_url': 'https://www.openstreetmap.org/note/new#map=17/45.52070/-122.68880&layers=N',\n",
      "                          'url': 'https://www.openstreetmap.org/?mlat=45.52070&mlon=-122.68880#map=17/45.52070/-122.68880'},\n",
      "                  'UN_M49': {'regions': {'AMERICAS': '019',\n",
      "                                         'NORTHERN_AMERICA': '021',\n",
      "                                         'US': '840',\n",
      "                                         'WORLD': '001'},\n",
      "                             'statistical_groupings': ['MEDC']},\n",
      "                  'callingcode': 1,\n",
      "                  'currency': {'alternate_symbols': ['US$'],\n",
      "                               'decimal_mark': '.',\n",
      "                               'disambiguate_symbol': 'US$',\n",
      "                               'html_entity': '$',\n",
      "                               'iso_code': 'USD',\n",
      "                               'iso_numeric': '840',\n",
      "                               'name': 'United States Dollar',\n",
      "                               'smallest_denomination': 1,\n",
      "                               'subunit': 'Cent',\n",
      "                               'subunit_to_unit': 100,\n",
      "                               'symbol': '$',\n",
      "                               'symbol_first': 1,\n",
      "                               'thousands_separator': ','},\n",
      "                  'flag': '🇺🇸',\n",
      "                  'geohash': 'c20fbnu9rc806r9enpsh',\n",
      "                  'qibla': 17.46,\n",
      "                  'roadinfo': {'drive_on': 'right', 'speed_in': 'mph'},\n",
      "                  'sun': {'rise': {'apparent': 1649597640,\n",
      "                                   'astronomical': 1649591280,\n",
      "                                   'civil': 1649595840,\n",
      "                                   'nautical': 1649593620},\n",
      "                          'set': {'apparent': 1649559000,\n",
      "                                  'astronomical': 1649565420,\n",
      "                                  'civil': 1649560860,\n",
      "                                  'nautical': 1649563080}},\n",
      "                  'timezone': {'name': 'America/Los_Angeles',\n",
      "                               'now_in_dst': 1,\n",
      "                               'offset_sec': -25200,\n",
      "                               'offset_string': '-0700',\n",
      "                               'short_name': 'PDT'},\n",
      "                  'what3words': {'words': 'timing.glory.pans'}},\n",
      "  'bounds': {'northeast': {'lat': 45.524228, 'lng': -122.676472},\n",
      "             'southwest': {'lat': 45.510549, 'lng': -122.720892}},\n",
      "  'components': {'ISO_3166-1_alpha-2': 'US',\n",
      "                 'ISO_3166-1_alpha-3': 'USA',\n",
      "                 '_category': 'postcode',\n",
      "                 '_type': 'postcode',\n",
      "                 'continent': 'North America',\n",
      "                 'country': 'United States of America',\n",
      "                 'country_code': 'us',\n",
      "                 'county': 'Multnomah County',\n",
      "                 'postcode': '97205',\n",
      "                 'state': 'Oregon',\n",
      "                 'state_code': 'OR'},\n",
      "  'confidence': 7,\n",
      "  'formatted': 'Multnomah County, OR 97205, United States of America',\n",
      "  'geometry': {'lat': 45.5207, 'lng': -122.6888}}]\n"
     ]
    }
   ],
   "source": [
    "query= u'1207 SW Broadway, Portland, OR 97205'\n",
    "\n",
    "results = geocoder.geocode(query)\n",
    "\n",
    "pprint(results)"
   ]
  },
  {
   "cell_type": "markdown",
   "id": "c9550d6a-d638-4e03-ad80-8c7b235e1394",
   "metadata": {},
   "source": [
    "Noticed that the geocoder has returned 3 results. <br>\n",
    "Each slightly more general that the previous. The first matches the addreess to a specific place -- 1207 Southwest Broadway, Portland, OR 97205 --, the second matches it to an address, and the third simply places the address in \"Multomah County\" with zipcode 97205. <br>\n",
    "* First result is the most precise (highest score)"
   ]
  },
  {
   "cell_type": "markdown",
   "id": "2497ca39-15ea-49a5-b96f-29dc3f8f6d19",
   "metadata": {
    "jupyter": {
     "source_hidden": true
    },
    "tags": []
   },
   "source": [
    "### Parcing `forward` geocoding result\n",
    "We can parce the result! we could get the formatted address , the location's identifying [what3words](https://what3words.com/) words, or the lat and long corresponding to the address"
   ]
  },
  {
   "cell_type": "code",
   "execution_count": 40,
   "id": "eb5bb50f-ff9f-42a5-9b54-aae940d83029",
   "metadata": {},
   "outputs": [
    {
     "name": "stdout",
     "output_type": "stream",
     "text": [
      "1207 Southwest Broadway, Portland, OR 97205, United States of America\n",
      "broad.asleep.raft\n",
      "[45.5158973, -122.6816145]\n"
     ]
    }
   ],
   "source": [
    "formatted = results[0]['formatted']\n",
    "print(formatted)\n",
    "\n",
    "what3words = results[0]['annotations']['what3words']['words']\n",
    "print(what3words)\n",
    "\n",
    "lat = results[0]['geometry']['lat']\n",
    "long = results[0]['geometry']['lng']\n",
    "\n",
    "print([lat, long])"
   ]
  },
  {
   "cell_type": "markdown",
   "id": "c0b437ae-1f03-408e-9245-56a66d2cc24e",
   "metadata": {},
   "source": [
    "## Batch Geocoding \n",
    "Lets read a CSV file, iterate over each row and finally print the results"
   ]
  },
  {
   "cell_type": "code",
   "execution_count": 51,
   "id": "c4f56339-0ab0-4f86-8ae3-54ae32ed392e",
   "metadata": {},
   "outputs": [
    {
     "name": "stdout",
     "output_type": "stream",
     "text": [
      "OrderedDict([('name', 'Somerville Public Library East Branch'), ('address', '115 Broadway, Somerville, MA 02145'), ('lat', 42.3893085), ('lng', -71.0869435)])\n",
      "OrderedDict([('name', 'Somerville Public Library West Branch'), ('address', '40 College Ave, Somerville, MA 02144'), ('lat', 42.3981483), ('lng', -71.1217138)])\n",
      "OrderedDict([('name', 'Somerville Public Library Central Branch'), ('address', '79 Highland Avenue, Somerville, MA 02143'), ('lat', 42.3857881), ('lng', -71.0944054)])\n"
     ]
    }
   ],
   "source": [
    "# import CSV library\n",
    "import csv\n",
    "\n",
    "# provide location of csv file\n",
    "address_file = 'data/som_lib.csv'\n",
    "output_file = 'data/som_lib_geocoded.csv'\n",
    "\n",
    "# you can also use the path of the main file for the output file like:\n",
    "output_file = os.path.splitext(address_file)[0] +'_geocoded.csv'\n",
    "\n",
    "# open file...\n",
    "try:\n",
    "    with open(address_file, 'r') as incsv:\n",
    "        #Open output_file in write mode ('w')\n",
    "        with open(output_file, 'w') as outcsv:\n",
    "            reader = csv.DictReader(incsv)\n",
    "            # Add lat and lng to existing fieldnames\n",
    "            field_names = reader.fieldnames + ['lat', 'lng']\n",
    "            # Create the writer DictWriter - we'll use this to write rows\n",
    "            writer = csv.DictWriter(outcsv, field_names)    \n",
    "            # Iterate over the CSV rows...\n",
    "            for line in reader:\n",
    "                address = line['address'].strip()\n",
    "                result = geocoder.geocode(address)\n",
    "                # if address is geocoded , retrieve lat and lng. and save it to output \n",
    "                if result and len(result):\n",
    "                    line['lat'] = result[0]['geometry']['lat']\n",
    "                    line['lng'] = result[0]['geometry']['lng']\n",
    "                else:\n",
    "                    line['lat'] = None\n",
    "                    line['lng'] = None\n",
    "                print(line)\n",
    "                # write geocoded row to output file\n",
    "                writer.writerow(line)\n",
    "# Add except if file not found\n",
    "except FileNotFoundError:\n",
    "    print(f'{address_file} does not exist.')\n",
    "# Add except if exceed rate limit of 2500 requests per day (openCage 2500 requestes per day max, when free serv)\n",
    "except RateLimitExceededError as ex:\n",
    "    print(ex)"
   ]
  },
  {
   "cell_type": "markdown",
   "id": "bd19d123-99f3-4e00-8576-754b5186c3c9",
   "metadata": {},
   "source": [
    "### Next Steps...\n",
    "\n",
    "1. Let's now wrapping up all into a function for reusability\n",
    "2. Place the geocoding operation in a workflow fo the Pandas library\n",
    "3. Use Geopandas to write the resutl to a GeoJSON file"
   ]
  },
  {
   "cell_type": "code",
   "execution_count": 57,
   "id": "ba5923fd-bec5-4aa2-a34b-eb0726882fc7",
   "metadata": {},
   "outputs": [],
   "source": [
    "def geocode(in_file, address_field, out_file =False):\n",
    "    if out_file:\n",
    "        out_file = out_file\n",
    "    else:\n",
    "        out_file = os.path.splitext(in_file)[0]+ '_geocoded.csv'\n",
    "        \n",
    "    # Create try/except block\n",
    "    try:\n",
    "        with open(in_file, 'r') as incsv:\n",
    "            # open outputfile in write mode ('w')...\n",
    "            with open(out_file, 'w') as outcsv:\n",
    "                reader = csv.DictReader(incsv)\n",
    "                # Add lat & lng to existing fieldnames\n",
    "                field_names = reader.fieldnames + ['lat', 'lng']\n",
    "                 # Create the writer DictWriter - we'll use this to write rows\n",
    "                writer = csv.DictWriter(outcsv, field_names)    \n",
    "                # Iterate over the CSV rows...\n",
    "                for line in reader:\n",
    "                    address = line['address'].strip()\n",
    "                    result = geocoder.geocode(address)\n",
    "                    # if address is geocoded , retrieve lat and lng. and save it to output \n",
    "                    if result and len(result):\n",
    "                        line['lat'] = result[0]['geometry']['lat']\n",
    "                        line['lng'] = result[0]['geometry']['lng']\n",
    "                    else:\n",
    "                        line['lat'] = None\n",
    "                        line['lng'] = None\n",
    "                    print(line)\n",
    "                    # write geocoded row to output file\n",
    "                    writer.writerow(line)\n",
    "    # Add except if file not found\n",
    "    except FileNotFoundError:\n",
    "        print(f'{address_file} does not exist.')\n",
    "    # Add except if exceed rate limit of 2500 requests per day (openCage 2500 requestes per day max, when free serv)\n",
    "    except RateLimitExceededError as ex:\n",
    "        print(ex)"
   ]
  },
  {
   "cell_type": "code",
   "execution_count": 58,
   "id": "c4d475c4-1078-4cbc-8300-a4eb42e6f5ab",
   "metadata": {},
   "outputs": [
    {
     "name": "stdout",
     "output_type": "stream",
     "text": [
      "OrderedDict([('name', 'Somerville Public Library East Branch'), ('address', '115 Broadway, Somerville, MA 02145'), ('lat', 42.3893085), ('lng', -71.0869435)])\n",
      "OrderedDict([('name', 'Somerville Public Library West Branch'), ('address', '40 College Ave, Somerville, MA 02144'), ('lat', 42.3981483), ('lng', -71.1217138)])\n",
      "OrderedDict([('name', 'Somerville Public Library Central Branch'), ('address', '79 Highland Avenue, Somerville, MA 02143'), ('lat', 42.3857881), ('lng', -71.0944054)])\n"
     ]
    }
   ],
   "source": [
    "geocode(in_file='data/som_lib.csv', address_field='address')"
   ]
  },
  {
   "cell_type": "markdown",
   "id": "e5148a3c-c60a-4e0e-8523-8e0712544f29",
   "metadata": {},
   "source": [
    "Now, Lets re-write the process using `Pandas`\n",
    "* We are going to use `df.apply(...)`-- this syntax is a vectorized <i>\"for LOOP\"</i>. All it's doing is applying an operation (in this case, the geocoding function) to each row (axis=1)\n"
   ]
  },
  {
   "cell_type": "code",
   "execution_count": 59,
   "id": "ce507dfa-2fc0-42b2-a798-37ba4b3d53aa",
   "metadata": {},
   "outputs": [],
   "source": [
    "import pandas as pd"
   ]
  },
  {
   "cell_type": "code",
   "execution_count": 85,
   "id": "28dbf42f-1bdf-4ce3-80f7-8789bc7f062b",
   "metadata": {},
   "outputs": [],
   "source": [
    "def geocode(row, query_field):\n",
    "    '''\n",
    "    params: \n",
    "    -------\n",
    "        row: row from created dataframe in run() function.\n",
    "        query_field : is the column name where address rest in the csv file.\n",
    "    \n",
    "    Description:\n",
    "    -----------\n",
    "        get each row from df created in run() function and apply geocoding process, \n",
    "        to return lat and lng from address if exist, \n",
    "    '''\n",
    "    try:\n",
    "        address = row[query_field].strip()\n",
    "        result = geocoder.geocode(address)\n",
    "        if result and len(result):\n",
    "            row['lat'] = result[0]['geometry']['lat']\n",
    "            row['lng'] = result[0]['geometry']['lng']\n",
    "        else:\n",
    "            row['lat'] = None\n",
    "            row['lng'] = None\n",
    "        return row\n",
    "    except RateLimitExceededError as ex:\n",
    "        print(ex)\n",
    "        quit\n",
    "        \n",
    "\n",
    "def run(in_file, query_field, out_file=False):\n",
    "    '''\n",
    "    params:\n",
    "    -------\n",
    "        in_file : csv file with data to be geocoded\n",
    "        query_field : column name in csv file where address rest\n",
    "    \n",
    "    Description: \n",
    "    -----------\n",
    "        Create dataframe from csv file\n",
    "        apply geocode() function to each row in df, creating new dataframe\n",
    "        print df returned\n",
    "        Save df to csv file \n",
    "    '''\n",
    "    if out_file:\n",
    "        out_file = out_file\n",
    "    else:\n",
    "        out_file = os.path.splitext(in_file)[0]+ '_geocoded.csv'\n",
    "    try:\n",
    "        df = pd.read_csv(in_file)\n",
    "        df = df.apply(lambda x: geocode(x, query_field), axis=1)\n",
    "        print(df)\n",
    "        df.to_csv(out_file)\n",
    "    except FileNotFoundError:\n",
    "        print(f'{in_file} does not exist.')"
   ]
  },
  {
   "cell_type": "code",
   "execution_count": 86,
   "id": "4356c42d-d542-482e-8bd6-4e55545c7390",
   "metadata": {},
   "outputs": [
    {
     "name": "stdout",
     "output_type": "stream",
     "text": [
      "                                       name  \\\n",
      "0     Somerville Public Library East Branch   \n",
      "1     Somerville Public Library West Branch   \n",
      "2  Somerville Public Library Central Branch   \n",
      "\n",
      "                                    address        lat        lng  \n",
      "0        115 Broadway, Somerville, MA 02145  42.389308 -71.086944  \n",
      "1      40 College Ave, Somerville, MA 02144  42.398148 -71.121714  \n",
      "2  79 Highland Avenue, Somerville, MA 02143  42.385788 -71.094405  \n"
     ]
    }
   ],
   "source": [
    "# call run function\n",
    "\n",
    "run(in_file='data/som_lib.csv', query_field='address')"
   ]
  },
  {
   "cell_type": "markdown",
   "id": "c3f5055a-675d-4d28-a4a1-1d0671a4d11c",
   "metadata": {},
   "source": [
    "### Extension 3: Write a GeoJSON Using GeoPandas\n",
    "Let's extent out geocoder to write a GeoJSON file automatically, this will remove the step in which we interpret the latitudes and longitudes using GIS. The key row is `row['geometry'] = Point(...)` -- we're creating a point object which Geopandas can interpret (the block beginning `gpd.GeoDataFrame()`)"
   ]
  },
  {
   "cell_type": "code",
   "execution_count": 64,
   "id": "b5876371-62f0-475c-8794-1c4247764359",
   "metadata": {},
   "outputs": [],
   "source": [
    "import pandas as pd\n",
    "import geopandas as gpd\n",
    "from shapely.geometry import Point"
   ]
  },
  {
   "cell_type": "code",
   "execution_count": 92,
   "id": "08df516a-f1ee-4524-b2be-e021bd64bb0b",
   "metadata": {},
   "outputs": [],
   "source": [
    "def geocode(row, query_field):\n",
    "    '''\n",
    "    params: \n",
    "    -------\n",
    "        row: row from created dataframe in run() function.\n",
    "        query_field : is the column name where address rest in the csv file.\n",
    "    \n",
    "    Description:\n",
    "    -----------\n",
    "        get each row from df created in run() function and apply geocoding process, \n",
    "        to return lat and lng from address if exist, \n",
    "    '''\n",
    "    try:\n",
    "        address = row[query_field].strip()\n",
    "        result = geocoder.geocode(address)\n",
    "        if result and len(result):\n",
    "            row['geometry'] = Point(result[0]['geometry']['lng'], result[0]['geometry']['lat'])\n",
    "        else:\n",
    "            row['geometry'] = None\n",
    "        return row\n",
    "    except RateLimitExceededError as ex:\n",
    "        print(ex)\n",
    "        quit\n",
    "        \n",
    "        \n",
    "def read_data_return_geojson(in_file, query_field, out_file=False):\n",
    "    '''\n",
    "    params:\n",
    "    -------\n",
    "        in_file : csv file with data to be geocoded\n",
    "        query_field : column name in csv file where address rest\n",
    "    \n",
    "    Description: \n",
    "    -----------\n",
    "        Create dataframe from csv file\n",
    "        apply geocode() function to each row in df, creating new dataframe\n",
    "        print df returned\n",
    "        Save df to csv file \n",
    "    '''\n",
    "    if out_file:\n",
    "        out_file = out_file\n",
    "    else:\n",
    "        out_file = os.path.splitext(in_file)[0]+ '_geocoded.geojson'\n",
    "    try:\n",
    "        df = pd.read_csv(in_file)\n",
    "        gdf = gpd.GeoDataFrame(df.apply(lambda x: geocode(x, query_field), axis=1)\n",
    "                               ,geometry='geometry')\n",
    "            \n",
    "        print(gdf)\n",
    "        gdf.to_file(out_file, driver='GeoJSON')\n",
    "    except FileNotFoundError:\n",
    "        print(f'{in_file} does not exist.')"
   ]
  },
  {
   "cell_type": "code",
   "execution_count": 93,
   "id": "7076238f-49fa-43dc-b323-dbf1ff518bdf",
   "metadata": {
    "tags": []
   },
   "outputs": [],
   "source": [
    "# call run function\n",
    "def main():\n",
    "    \"\"\" \n",
    "    Runs read_data_return_geojson() function, which internally runs geocode()    \n",
    "    \"\"\"\n",
    "    try:\n",
    "        read_data_return_geojson(in_file='data/som_lib.csv', query_field='address')\n",
    "    except :\n",
    "        raise NotImplementedError"
   ]
  },
  {
   "cell_type": "code",
   "execution_count": 94,
   "id": "4d180431-6067-41f4-86e8-8e2eeaf5f2d3",
   "metadata": {},
   "outputs": [
    {
     "name": "stdout",
     "output_type": "stream",
     "text": [
      "                                       name  \\\n",
      "0     Somerville Public Library East Branch   \n",
      "1     Somerville Public Library West Branch   \n",
      "2  Somerville Public Library Central Branch   \n",
      "\n",
      "                                    address                    geometry  \n",
      "0        115 Broadway, Somerville, MA 02145  POINT (-71.08694 42.38931)  \n",
      "1      40 College Ave, Somerville, MA 02144  POINT (-71.12171 42.39815)  \n",
      "2  79 Highland Avenue, Somerville, MA 02143  POINT (-71.09441 42.38579)  \n"
     ]
    }
   ],
   "source": [
    "# Call main function\n",
    "\n",
    "if __name__ == \"__main__\":\n",
    "    main()"
   ]
  },
  {
   "cell_type": "code",
   "execution_count": null,
   "id": "331fc0c4-ef4d-4679-b283-797671467e88",
   "metadata": {},
   "outputs": [],
   "source": []
  }
 ],
 "metadata": {
  "kernelspec": {
   "display_name": "anaconda3",
   "language": "python",
   "name": "anaconda3"
  },
  "language_info": {
   "codemirror_mode": {
    "name": "ipython",
    "version": 3
   },
   "file_extension": ".py",
   "mimetype": "text/x-python",
   "name": "python",
   "nbconvert_exporter": "python",
   "pygments_lexer": "ipython3",
   "version": "3.7.6"
  }
 },
 "nbformat": 4,
 "nbformat_minor": 5
}
